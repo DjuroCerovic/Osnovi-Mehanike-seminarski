{
 "cells": [
  {
   "cell_type": "markdown",
   "id": "56ee4c83",
   "metadata": {},
   "source": [
    "# Simulacija kretanja projektila u tornadu\n",
    "**Autor:** Đuro Ćerović, Luka Matić, Stefan \n",
    "**Datum:** Avgust 2025."
   ]
  },
  {
   "cell_type": "markdown",
   "id": "57094665",
   "metadata": {},
   "source": [
    "## Fizikalni model\n",
    "Ukupna sila na projektil uključuje:\n",
    "- Gravitaciju\n",
    "- Otpor vazduha (kvadratna zavisnost od relativne brzine)\n",
    "- Tangencijalnu brzinu vetra\n",
    "\n",
    "Relativna brzina:\n",
    "$$\\vec{v}_{rel} = \\vec{v}_{projektila} - \\vec{v}_{vetra}$$\n",
    "\n",
    "Sila otpora:\n",
    "$$\\vec{F}_D = - D_m \\cdot \\|\\vec{v}_{rel}\\| \\cdot \\vec{v}_{rel}$$"
   ]
  },
  {
   "cell_type": "code",
   "execution_count": null,
   "id": "41488b2f",
   "metadata": {},
   "outputs": [],
   "source": [
    "# Parametri simulacije\n",
    "from pylab import *\n",
    "from numpy.linalg import norm\n",
    "\n",
    "m = 0.2                     # masa projektila (kg)\n",
    "diam = 0.025                # prečnik (m)\n",
    "rho = 1.293                 # gustina vazduha (kg/m^3)\n",
    "g = array([0, 0, -9.81])    # gravitacija\n",
    "\n",
    "A = pi * (diam / 2)**2      # površina preseka\n",
    "Dm = 0.5 * rho * A / m      # koeficijent otpora (podeljen masom)"
   ]
  },
  {
   "cell_type": "code",
   "execution_count": null,
   "id": "e9df609c",
   "metadata": {},
   "outputs": [],
   "source": [
    "# Inicijalni uslovi\n",
    "r0 = array([-100.0, 0.0, 0.0])  # pozicija u metrima\n",
    "v0 = array([100.0, 0.0, 50.0])  # početna brzina\n",
    "\n",
    "r = [r0]\n",
    "v = [v0]\n",
    "\n",
    "T = 10.0       # ukupno vreme simulacije\n",
    "dt = 0.01      # korak vremena\n",
    "N = int(T/dt)"
   ]
  },
  {
   "cell_type": "code",
   "execution_count": null,
   "id": "53e29b7c",
   "metadata": {},
   "outputs": [],
   "source": [
    "# Simulacija\n",
    "for i in range(N):\n",
    "    rr = norm(r[i][:2])\n",
    "    if rr == 0:\n",
    "        u = array([0.0, 0.0, 0.0])\n",
    "    else:\n",
    "        u = 100 * array([-r[i][1]/rr, r[i][0]/rr, 0.0])  # tangencijalni vetar\n",
    "\n",
    "    vrel = v[i] - u\n",
    "    a = g - Dm * norm(vrel) * vrel\n",
    "    \n",
    "    v.append(v[i] + dt * a)\n",
    "    r.append(r[i] + dt * v[i])"
   ]
  },
  {
   "cell_type": "code",
   "execution_count": null,
   "id": "3d28d1d0",
   "metadata": {},
   "outputs": [],
   "source": [
    "# Prikaz 3D trajektorije\n",
    "from mpl_toolkits.mplot3d import Axes3D\n",
    "fig = figure()\n",
    "ax = fig.add_subplot(111, projection='3d')\n",
    "r = array(r)\n",
    "ax.plot3D(r[:,0], r[:,1], r[:,2])\n",
    "ax.set_xlabel('X (m)')\n",
    "ax.set_ylabel('Y (m)')\n",
    "ax.set_zlabel('Z (m)')\n",
    "title('3D trajektorija projektila u tornadu')\n",
    "show()"
   ]
  },
  {
   "cell_type": "markdown",
   "id": "98138284",
   "metadata": {},
   "source": [
    "## Ilustracija\n",
    "Primer slike tornada:\n",
    "\n",
    "![Tornado](slike/1_3d_putanja_kroz_tornado..jpg)"
   ]
  }
 ],
 "metadata": {
  "kernelspec": {
   "display_name": "Python 3 (ipykernel)",
   "language": "python",
   "name": "python3"
  },
  "language_info": {
   "codemirror_mode": {
    "name": "ipython",
    "version": 3
   },
   "file_extension": ".py",
   "mimetype": "text/x-python",
   "name": "python",
   "nbconvert_exporter": "python",
   "pygments_lexer": "ipython3",
   "version": "3.10.12"
  }
 },
 "nbformat": 4,
 "nbformat_minor": 5
}
